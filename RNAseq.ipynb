{
 "cells": [
  {
   "cell_type": "code",
   "execution_count": 1,
   "metadata": {
    "collapsed": false
   },
   "outputs": [
    {
     "name": "stderr",
     "output_type": "stream",
     "text": [
      "/Users/ratisharma/anaconda/lib/python2.7/site-packages/statsmodels/compat/pandas.py:56: FutureWarning: The pandas.core.datetools module is deprecated and will be removed in a future version. Please use the pandas.tseries module instead.\n",
      "  from pandas.core import datetools\n",
      "/Users/ratisharma/anaconda/lib/python2.7/site-packages/sklearn/cross_validation.py:41: DeprecationWarning: This module was deprecated in version 0.18 in favor of the model_selection module into which all the refactored classes and functions are moved. Also note that the interface of the new CV iterators are different from that of this module. This module will be removed in 0.20.\n",
      "  \"This module will be removed in 0.20.\", DeprecationWarning)\n"
     ]
    }
   ],
   "source": [
    "import numpy as np\n",
    "import pandas as pd\n",
    "import statsmodels.api as sm\n",
    "import matplotlib.pyplot as plt\n",
    "from patsy import dmatrices\n",
    "from sklearn.linear_model import LogisticRegression\n",
    "from sklearn.cross_validation import train_test_split\n",
    "from sklearn import metrics\n",
    "from sklearn.cross_validation import cross_val_score"
   ]
  },
  {
   "cell_type": "code",
   "execution_count": 9,
   "metadata": {
    "collapsed": false
   },
   "outputs": [],
   "source": [
    "dta = pd.read_csv('/Users/ratisharma/Documents/Projects/RNAseq/convertcsv.csv')"
   ]
  },
  {
   "cell_type": "code",
   "execution_count": 10,
   "metadata": {
    "collapsed": false
   },
   "outputs": [
    {
     "data": {
      "text/html": [
       "<div>\n",
       "<style>\n",
       "    .dataframe thead tr:only-child th {\n",
       "        text-align: right;\n",
       "    }\n",
       "\n",
       "    .dataframe thead th {\n",
       "        text-align: left;\n",
       "    }\n",
       "\n",
       "    .dataframe tbody tr th {\n",
       "        vertical-align: top;\n",
       "    }\n",
       "</style>\n",
       "<table border=\"1\" class=\"dataframe\">\n",
       "  <thead>\n",
       "    <tr style=\"text-align: right;\">\n",
       "      <th></th>\n",
       "      <th>Unnamed: 0</th>\n",
       "      <th>mRNA</th>\n",
       "      <th>trna</th>\n",
       "      <th>ncrna</th>\n",
       "      <th>rRNA</th>\n",
       "      <th>total (CDS+trna+rrna+ncrna)</th>\n",
       "      <th>others</th>\n",
       "      <th>Total Mapped Reads</th>\n",
       "      <th>Mapped %</th>\n",
       "      <th>mRNA_p</th>\n",
       "      <th>tRNA_p</th>\n",
       "      <th>ncRNA_p</th>\n",
       "      <th>rRNA_p</th>\n",
       "    </tr>\n",
       "  </thead>\n",
       "  <tbody>\n",
       "    <tr>\n",
       "      <th>0</th>\n",
       "      <td>pmk-12h-A</td>\n",
       "      <td>185610</td>\n",
       "      <td>4648</td>\n",
       "      <td>68124</td>\n",
       "      <td>4687680</td>\n",
       "      <td>4946062</td>\n",
       "      <td>97045</td>\n",
       "      <td>5043107</td>\n",
       "      <td>10.95</td>\n",
       "      <td>3.680469</td>\n",
       "      <td>0.092165</td>\n",
       "      <td>1.350834</td>\n",
       "      <td>92.952222</td>\n",
       "    </tr>\n",
       "    <tr>\n",
       "      <th>1</th>\n",
       "      <td>pmk-12h-B</td>\n",
       "      <td>207196</td>\n",
       "      <td>3506</td>\n",
       "      <td>84284</td>\n",
       "      <td>5202672</td>\n",
       "      <td>5497658</td>\n",
       "      <td>110639</td>\n",
       "      <td>5608297</td>\n",
       "      <td>13.73</td>\n",
       "      <td>3.694455</td>\n",
       "      <td>0.062515</td>\n",
       "      <td>1.502845</td>\n",
       "      <td>92.767412</td>\n",
       "    </tr>\n",
       "    <tr>\n",
       "      <th>2</th>\n",
       "      <td>hsp-12-6-A</td>\n",
       "      <td>60092</td>\n",
       "      <td>1874</td>\n",
       "      <td>22176</td>\n",
       "      <td>1328848</td>\n",
       "      <td>1412990</td>\n",
       "      <td>38806</td>\n",
       "      <td>1451796</td>\n",
       "      <td>1.64</td>\n",
       "      <td>4.139149</td>\n",
       "      <td>0.129081</td>\n",
       "      <td>1.527487</td>\n",
       "      <td>91.531317</td>\n",
       "    </tr>\n",
       "    <tr>\n",
       "      <th>3</th>\n",
       "      <td>hsp-12-6-22h-B</td>\n",
       "      <td>281716</td>\n",
       "      <td>5654</td>\n",
       "      <td>94996</td>\n",
       "      <td>7303258</td>\n",
       "      <td>7685624</td>\n",
       "      <td>135710</td>\n",
       "      <td>7821334</td>\n",
       "      <td>10.73</td>\n",
       "      <td>3.601892</td>\n",
       "      <td>0.072289</td>\n",
       "      <td>1.214575</td>\n",
       "      <td>93.376117</td>\n",
       "    </tr>\n",
       "    <tr>\n",
       "      <th>4</th>\n",
       "      <td>N2-12h-A</td>\n",
       "      <td>12938</td>\n",
       "      <td>230</td>\n",
       "      <td>3524</td>\n",
       "      <td>317070</td>\n",
       "      <td>333762</td>\n",
       "      <td>6117</td>\n",
       "      <td>339879</td>\n",
       "      <td>0.41</td>\n",
       "      <td>3.806649</td>\n",
       "      <td>0.067671</td>\n",
       "      <td>1.036840</td>\n",
       "      <td>93.289082</td>\n",
       "    </tr>\n",
       "    <tr>\n",
       "      <th>5</th>\n",
       "      <td>N2-12h-B</td>\n",
       "      <td>35158</td>\n",
       "      <td>934</td>\n",
       "      <td>16890</td>\n",
       "      <td>730854</td>\n",
       "      <td>783836</td>\n",
       "      <td>21513</td>\n",
       "      <td>805349</td>\n",
       "      <td>1.01</td>\n",
       "      <td>4.365561</td>\n",
       "      <td>0.115975</td>\n",
       "      <td>2.097227</td>\n",
       "      <td>90.749973</td>\n",
       "    </tr>\n",
       "    <tr>\n",
       "      <th>6</th>\n",
       "      <td>N2-22h-A</td>\n",
       "      <td>68672</td>\n",
       "      <td>1720</td>\n",
       "      <td>21544</td>\n",
       "      <td>2063072</td>\n",
       "      <td>2155008</td>\n",
       "      <td>37385</td>\n",
       "      <td>2192393</td>\n",
       "      <td>4.98</td>\n",
       "      <td>3.132285</td>\n",
       "      <td>0.078453</td>\n",
       "      <td>0.982671</td>\n",
       "      <td>94.101377</td>\n",
       "    </tr>\n",
       "    <tr>\n",
       "      <th>7</th>\n",
       "      <td>N2-22h-B</td>\n",
       "      <td>453658</td>\n",
       "      <td>7924</td>\n",
       "      <td>183936</td>\n",
       "      <td>11477718</td>\n",
       "      <td>12123236</td>\n",
       "      <td>245292</td>\n",
       "      <td>12368528</td>\n",
       "      <td>28.94</td>\n",
       "      <td>3.667841</td>\n",
       "      <td>0.064066</td>\n",
       "      <td>1.487129</td>\n",
       "      <td>92.797769</td>\n",
       "    </tr>\n",
       "    <tr>\n",
       "      <th>8</th>\n",
       "      <td>Plate-12h-A</td>\n",
       "      <td>386978</td>\n",
       "      <td>37954</td>\n",
       "      <td>600238</td>\n",
       "      <td>17872310</td>\n",
       "      <td>18897480</td>\n",
       "      <td>625932</td>\n",
       "      <td>19523412</td>\n",
       "      <td>99.75</td>\n",
       "      <td>1.982123</td>\n",
       "      <td>0.194402</td>\n",
       "      <td>3.074452</td>\n",
       "      <td>91.542964</td>\n",
       "    </tr>\n",
       "    <tr>\n",
       "      <th>9</th>\n",
       "      <td>Plate-12h-B</td>\n",
       "      <td>307538</td>\n",
       "      <td>24444</td>\n",
       "      <td>800790</td>\n",
       "      <td>20031656</td>\n",
       "      <td>21164428</td>\n",
       "      <td>688788</td>\n",
       "      <td>21853216</td>\n",
       "      <td>99.71</td>\n",
       "      <td>1.407289</td>\n",
       "      <td>0.111855</td>\n",
       "      <td>3.664403</td>\n",
       "      <td>91.664568</td>\n",
       "    </tr>\n",
       "  </tbody>\n",
       "</table>\n",
       "</div>"
      ],
      "text/plain": [
       "       Unnamed: 0    mRNA   trna   ncrna      rRNA  \\\n",
       "0       pmk-12h-A  185610   4648   68124   4687680   \n",
       "1       pmk-12h-B  207196   3506   84284   5202672   \n",
       "2      hsp-12-6-A   60092   1874   22176   1328848   \n",
       "3  hsp-12-6-22h-B  281716   5654   94996   7303258   \n",
       "4        N2-12h-A   12938    230    3524    317070   \n",
       "5        N2-12h-B   35158    934   16890    730854   \n",
       "6        N2-22h-A   68672   1720   21544   2063072   \n",
       "7        N2-22h-B  453658   7924  183936  11477718   \n",
       "8     Plate-12h-A  386978  37954  600238  17872310   \n",
       "9     Plate-12h-B  307538  24444  800790  20031656   \n",
       "\n",
       "   total (CDS+trna+rrna+ncrna)  others  Total Mapped Reads  Mapped %   \\\n",
       "0                      4946062   97045             5043107      10.95   \n",
       "1                      5497658  110639             5608297      13.73   \n",
       "2                      1412990   38806             1451796       1.64   \n",
       "3                      7685624  135710             7821334      10.73   \n",
       "4                       333762    6117              339879       0.41   \n",
       "5                       783836   21513              805349       1.01   \n",
       "6                      2155008   37385             2192393       4.98   \n",
       "7                     12123236  245292            12368528      28.94   \n",
       "8                     18897480  625932            19523412      99.75   \n",
       "9                     21164428  688788            21853216      99.71   \n",
       "\n",
       "     mRNA_p    tRNA_p   ncRNA_p     rRNA_p  \n",
       "0  3.680469  0.092165  1.350834  92.952222  \n",
       "1  3.694455  0.062515  1.502845  92.767412  \n",
       "2  4.139149  0.129081  1.527487  91.531317  \n",
       "3  3.601892  0.072289  1.214575  93.376117  \n",
       "4  3.806649  0.067671  1.036840  93.289082  \n",
       "5  4.365561  0.115975  2.097227  90.749973  \n",
       "6  3.132285  0.078453  0.982671  94.101377  \n",
       "7  3.667841  0.064066  1.487129  92.797769  \n",
       "8  1.982123  0.194402  3.074452  91.542964  \n",
       "9  1.407289  0.111855  3.664403  91.664568  "
      ]
     },
     "execution_count": 10,
     "metadata": {},
     "output_type": "execute_result"
    }
   ],
   "source": [
    "dta.head(10)"
   ]
  },
  {
   "cell_type": "code",
   "execution_count": 13,
   "metadata": {
    "collapsed": true
   },
   "outputs": [],
   "source": [
    "# show plots in the notebook\n",
    "%matplotlib inline"
   ]
  },
  {
   "cell_type": "code",
   "execution_count": 14,
   "metadata": {
    "collapsed": false
   },
   "outputs": [
    {
     "data": {
      "text/plain": [
       "<matplotlib.axes._subplots.AxesSubplot at 0x11840aed0>"
      ]
     },
     "execution_count": 14,
     "metadata": {},
     "output_type": "execute_result"
    },
    {
     "data": {
      "image/png": "[encoded data removed]",
      "text/plain": [
       "<matplotlib.figure.Figure at 0x118431a90>"
      ]
     },
     "metadata": {},
     "output_type": "display_data"
    }
   ],
   "source": [
    "cd = pd.crosstab(dta.mRNA_p, dta.tRNA_p)"
   ]
  },
  {
   "cell_type": "code",
   "execution_count": 17,
   "metadata": {
    "collapsed": false
   },
   "outputs": [],
   "source": [
    "dta2 = dta.iloc[:, [0,9,10,11,12]]"
   ]
  },
  {
   "cell_type": "code",
   "execution_count": 18,
   "metadata": {
    "collapsed": false
   },
   "outputs": [
    {
     "data": {
      "text/plain": [
       "<matplotlib.axes._subplots.AxesSubplot at 0x118d1fe90>"
      ]
     },
     "execution_count": 18,
     "metadata": {},
     "output_type": "execute_result"
    },
    {
     "data": {
      "image/png": "[encoded data removed]",
      "text/plain": [
       "<matplotlib.figure.Figure at 0x1184ee550>"
      ]
     },
     "metadata": {},
     "output_type": "display_data"
    }
   ],
   "source": [
    "dta2.plot.bar()"
   ]
  },
  {
   "cell_type": "code",
   "execution_count": 28,
   "metadata": {
    "collapsed": false
   },
   "outputs": [
    {
     "data": {
      "text/plain": [
       "([<matplotlib.axis.XTick at 0x119723810>,\n",
       "  <matplotlib.axis.XTick at 0x11a2ad6d0>,\n",
       "  <matplotlib.axis.XTick at 0x11a586a50>,\n",
       "  <matplotlib.axis.XTick at 0x11a590390>,\n",
       "  <matplotlib.axis.XTick at 0x11a590a90>,\n",
       "  <matplotlib.axis.XTick at 0x11a59a1d0>,\n",
       "  <matplotlib.axis.XTick at 0x11a59a8d0>,\n",
       "  <matplotlib.axis.XTick at 0x11a59afd0>,\n",
       "  <matplotlib.axis.XTick at 0x11a5bae10>,\n",
       "  <matplotlib.axis.XTick at 0x11a5c2390>,\n",
       "  <matplotlib.axis.XTick at 0x11a5af810>,\n",
       "  <matplotlib.axis.XTick at 0x11a5a7b50>],\n",
       " <a list of 12 Text xticklabel objects>)"
      ]
     },
     "execution_count": 28,
     "metadata": {},
     "output_type": "execute_result"
    },
    {
     "data": {
      "image/png": "[encoded data removed]",
      "text/plain": [
       "<matplotlib.figure.Figure at 0x11a312190>"
      ]
     },
     "metadata": {},
     "output_type": "display_data"
    }
   ],
   "source": [
    "dta2.plot.bar(stacked=True)\n",
    "plt.xticks([0,1, 2, 3,4,5,6,7,8,9,10,11], dta.iloc[:,0])"
   ]
  },
  {
   "cell_type": "code",
   "execution_count": 20,
   "metadata": {
    "collapsed": true
   },
   "outputs": [],
   "source": [
    "dta3 = dta.iloc[:, [0,9,10,11]]"
   ]
  },
  {
   "cell_type": "code",
   "execution_count": 27,
   "metadata": {
    "collapsed": false
   },
   "outputs": [
    {
     "data": {
      "text/plain": [
       "([<matplotlib.axis.XTick at 0x119e12e50>,\n",
       "  <matplotlib.axis.XTick at 0x11a001090>,\n",
       "  <matplotlib.axis.XTick at 0x11a2e7bd0>,\n",
       "  <matplotlib.axis.XTick at 0x11a2f4510>,\n",
       "  <matplotlib.axis.XTick at 0x11a2f4c10>,\n",
       "  <matplotlib.axis.XTick at 0x11a300350>,\n",
       "  <matplotlib.axis.XTick at 0x11a3007d0>,\n",
       "  <matplotlib.axis.XTick at 0x11a300ed0>,\n",
       "  <matplotlib.axis.XTick at 0x11a31dd50>,\n",
       "  <matplotlib.axis.XTick at 0x11a3252d0>,\n",
       "  <matplotlib.axis.XTick at 0x11a325810>,\n",
       "  <matplotlib.axis.XTick at 0x11a325f10>],\n",
       " <a list of 12 Text xticklabel objects>)"
      ]
     },
     "execution_count": 27,
     "metadata": {},
     "output_type": "execute_result"
    },
    {
     "data": {
      "image/png": "[encoded data removed]",
      "text/plain": [
       "<matplotlib.figure.Figure at 0x119385dd0>"
      ]
     },
     "metadata": {},
     "output_type": "display_data"
    }
   ],
   "source": [
    "dta3.plot.bar(stacked=True)\n",
    "plt.xticks([0,1, 2, 3,4,5,6,7,8,9,10,11], dta.iloc[:,0])"
   ]
  },
  {
   "cell_type": "code",
   "execution_count": null,
   "metadata": {
    "collapsed": true
   },
   "outputs": [],
   "source": []
  }
 ],
 "metadata": {
  "kernelspec": {
   "display_name": "Python [Root]",
   "language": "python",
   "name": "Python [Root]"
  },
  "language_info": {
   "codemirror_mode": {
    "name": "ipython",
    "version": 2
   },
   "file_extension": ".py",
   "mimetype": "text/x-python",
   "name": "python",
   "nbconvert_exporter": "python",
   "pygments_lexer": "ipython2",
   "version": "2.7.12"
  }
 },
 "nbformat": 4,
 "nbformat_minor": 0
}
