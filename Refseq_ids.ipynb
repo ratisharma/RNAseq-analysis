{
 "cells": [
  {
   "cell_type": "code",
   "execution_count": 1,
   "metadata": {
    "collapsed": true
   },
   "outputs": [],
   "source": [
    "import mygene\n",
    "mg = mygene.MyGeneInfo()"
   ]
  },
  {
   "cell_type": "code",
   "execution_count": 2,
   "metadata": {
    "collapsed": false
   },
   "outputs": [],
   "source": [
    "xli = ['CCDC83',\n",
    " 'MAST3',\n",
    " 'FLOT1',\n",
    " 'RPL11',\n",
    " 'ZDHHC20',\n",
    " 'LUC7L3',\n",
    " 'SNORD49A',\n",
    " 'CTSH',\n",
    " 'ACOT8']\n"
   ]
  },
  {
   "cell_type": "code",
   "execution_count": 3,
   "metadata": {
    "collapsed": false
   },
   "outputs": [
    {
     "name": "stdout",
     "output_type": "stream",
     "text": [
      "querying 1-9...done.\n",
      "Finished.\n"
     ]
    }
   ],
   "source": [
    "out = mg.querymany(xli, scopes='symbol', fields='entrezgene', species='human')"
   ]
  },
  {
   "cell_type": "code",
   "execution_count": 4,
   "metadata": {
    "collapsed": false
   },
   "outputs": [
    {
     "data": {
      "text/plain": [
       "[{u'_id': u'220047',\n",
       "  u'_score': 97.111275,\n",
       "  u'entrezgene': 220047,\n",
       "  u'query': u'CCDC83'},\n",
       " {u'_id': u'23031',\n",
       "  u'_score': 97.78243,\n",
       "  u'entrezgene': 23031,\n",
       "  u'query': u'MAST3'},\n",
       " {u'_id': u'10211',\n",
       "  u'_score': 100.25025,\n",
       "  u'entrezgene': 10211,\n",
       "  u'query': u'FLOT1'},\n",
       " {u'_id': u'6135',\n",
       "  u'_score': 92.06991,\n",
       "  u'entrezgene': 6135,\n",
       "  u'query': u'RPL11'},\n",
       " {u'_id': u'253832',\n",
       "  u'_score': 97.44111,\n",
       "  u'entrezgene': 253832,\n",
       "  u'query': u'ZDHHC20'},\n",
       " {u'_id': u'51747',\n",
       "  u'_score': 95.126495,\n",
       "  u'entrezgene': 51747,\n",
       "  u'query': u'LUC7L3'},\n",
       " {u'_id': u'26800',\n",
       "  u'_score': 113.22357,\n",
       "  u'entrezgene': 26800,\n",
       "  u'query': u'SNORD49A'},\n",
       " {u'_id': u'1512',\n",
       "  u'_score': 97.441795,\n",
       "  u'entrezgene': 1512,\n",
       "  u'query': u'CTSH'},\n",
       " {u'_id': u'10005',\n",
       "  u'_score': 94.640076,\n",
       "  u'entrezgene': 10005,\n",
       "  u'query': u'ACOT8'}]"
      ]
     },
     "execution_count": 4,
     "metadata": {},
     "output_type": "execute_result"
    }
   ],
   "source": [
    "out"
   ]
  },
  {
   "cell_type": "code",
   "execution_count": 8,
   "metadata": {
    "collapsed": true
   },
   "outputs": [],
   "source": [
    "mg.querymany?"
   ]
  },
  {
   "cell_type": "code",
   "execution_count": 5,
   "metadata": {
    "collapsed": true
   },
   "outputs": [],
   "source": [
    "xl2 = ['NP_064726.1', 'NP_064728.1', 'NP_248701.1', 'NP_248703.1', 'NP_248704.1']"
   ]
  },
  {
   "cell_type": "code",
   "execution_count": 6,
   "metadata": {
    "collapsed": false
   },
   "outputs": [
    {
     "name": "stdout",
     "output_type": "stream",
     "text": [
      "querying 1-5...done.\n",
      "Finished.\n"
     ]
    }
   ],
   "source": [
    "out2 = mg.querymany(xl2, scopes='RefSeq', fields='symbol', species='UCBPP-PA14')"
   ]
  },
  {
   "cell_type": "code",
   "execution_count": 7,
   "metadata": {
    "collapsed": false
   },
   "outputs": [
    {
     "data": {
      "text/plain": [
       "[{u'_id': u'879245',\n",
       "  u'_score': 20.298063,\n",
       "  u'query': u'NP_064726.1',\n",
       "  u'symbol': u'PA0006'},\n",
       " {u'_id': u'878214',\n",
       "  u'_score': 20.298063,\n",
       "  u'query': u'NP_064728.1',\n",
       "  u'symbol': u'glyS'},\n",
       " {u'_id': u'877921',\n",
       "  u'_score': 20.298689,\n",
       "  u'query': u'NP_248701.1',\n",
       "  u'symbol': u'PA0011'},\n",
       " {u'_id': u'877634',\n",
       "  u'_score': 20.298517,\n",
       "  u'query': u'NP_248703.1',\n",
       "  u'symbol': u'PA0013'},\n",
       " {u'_id': u'879294',\n",
       "  u'_score': 20.298338,\n",
       "  u'query': u'NP_248704.1',\n",
       "  u'symbol': u'PA0014'}]"
      ]
     },
     "execution_count": 7,
     "metadata": {},
     "output_type": "execute_result"
    }
   ],
   "source": [
    "out2"
   ]
  },
  {
   "cell_type": "code",
   "execution_count": 7,
   "metadata": {
    "collapsed": true
   },
   "outputs": [],
   "source": [
    "xl3 = ['0038']"
   ]
  },
  {
   "cell_type": "code",
   "execution_count": 10,
   "metadata": {
    "collapsed": false
   },
   "outputs": [
    {
     "name": "stdout",
     "output_type": "stream",
     "text": [
      "querying 1-1...done.\n",
      "Finished.\n"
     ]
    }
   ],
   "source": [
    "out3 = mg.querymany(xl3, scopes='entrezgene', fields='symbol', species='UCBPP-PA14')"
   ]
  },
  {
   "cell_type": "code",
   "execution_count": 11,
   "metadata": {
    "collapsed": false
   },
   "outputs": [
    {
     "data": {
      "text/plain": [
       "[{u'_id': u'38', u'_score': 22.650988, u'query': u'0038', u'symbol': u'ACAT1'}]"
      ]
     },
     "execution_count": 11,
     "metadata": {},
     "output_type": "execute_result"
    }
   ],
   "source": [
    "out3"
   ]
  },
  {
   "cell_type": "code",
   "execution_count": 43,
   "metadata": {
    "collapsed": false
   },
   "outputs": [
    {
     "name": "stdout",
     "output_type": "stream",
     "text": [
      "querying 1-1...done.\n",
      "Finished.\n"
     ]
    }
   ],
   "source": [
    "out4 = mg.querymany('NP_064726.1', scopes='RefSeq', fields='symbol', species='UCBPP-PA14')"
   ]
  },
  {
   "cell_type": "code",
   "execution_count": 44,
   "metadata": {
    "collapsed": false
   },
   "outputs": [
    {
     "data": {
      "text/plain": [
       "[{u'_id': u'879245',\n",
       "  u'_score': 20.298063,\n",
       "  u'query': u'NP_064726.1',\n",
       "  u'symbol': u'PA0006'}]"
      ]
     },
     "execution_count": 44,
     "metadata": {},
     "output_type": "execute_result"
    }
   ],
   "source": [
    "out4"
   ]
  },
  {
   "cell_type": "code",
   "execution_count": 32,
   "metadata": {
    "collapsed": false
   },
   "outputs": [],
   "source": [
    "maindir = '/Users/ratisharma/Documents/Projects/RNAseq/'\n",
    "\n",
    "fmain = open(maindir+'UCBPP-PA14-col.txt','r')\n",
    "f1 = open(maindir+'PA14-col1.txt','w')\n",
    "f2 = open(maindir+'PA14-col2.txt','w')\n",
    "for i in range(12456):\n",
    "    a = fmain.readline()\n",
    "    if i>2 and i%2==0:\n",
    "        f2.write(a)\n",
    "    elif i>2 and i%2==1:\n",
    "        f1.write(a) \n",
    "f1.close()\n",
    "f2.close()\n",
    "fmain.close()"
   ]
  },
  {
   "cell_type": "code",
   "execution_count": 1,
   "metadata": {
    "collapsed": true
   },
   "outputs": [],
   "source": [
    "def find_between( s, first, last ):\n",
    "    try:\n",
    "        start = s.index( first ) + len( first )\n",
    "        end = s.index( last, start )\n",
    "        return s[start:end]\n",
    "    except ValueError:\n",
    "        return \"\""
   ]
  },
  {
   "cell_type": "code",
   "execution_count": 3,
   "metadata": {
    "collapsed": false
   },
   "outputs": [],
   "source": [
    "maindir = '/Users/ratisharma/Documents/Projects/RNAseq/'\n",
    "f1 = open(maindir+'PA14-col1.txt','r')\n",
    "#f2 = open(maindir+'PA14-col2.txt','r')"
   ]
  },
  {
   "cell_type": "code",
   "execution_count": 37,
   "metadata": {
    "collapsed": false
   },
   "outputs": [],
   "source": [
    "f1 = open(maindir+'PA14-col1.txt','r')\n",
    "geneID = []\n",
    "LocusTag = []\n",
    "OldLocusTag = []\n",
    "for i in range(6227):\n",
    "    a = f1.readline()\n",
    "    geneID.append('gene'+ find_between(a,'ID=gene',';'))\n",
    "    LocusTag.append(find_between(a,'Name=',';'))\n",
    "    OldLocusTag.append(find_between(a,'old_locus_tag=','\\n'))\n",
    "f1.close()"
   ]
  },
  {
   "cell_type": "code",
   "execution_count": 15,
   "metadata": {
    "collapsed": true
   },
   "outputs": [],
   "source": [
    "f2 = open(maindir+'PA14-col2.txt','r')\n",
    "ParentID = []\n",
    "refseqID = []\n",
    "for i in range(6226):\n",
    "    b = f2.readline()\n",
    "    ParentID.append(find_between(b,'Parent=',';'))\n",
    "    refseqID.append(find_between(b,'RefSeq:',';'))\n",
    "f2.close()"
   ]
  },
  {
   "cell_type": "code",
   "execution_count": 4,
   "metadata": {
    "collapsed": true
   },
   "outputs": [],
   "source": [
    "import pandas as pd"
   ]
  },
  {
   "cell_type": "code",
   "execution_count": 38,
   "metadata": {
    "collapsed": false
   },
   "outputs": [
    {
     "data": {
      "text/html": [
       "<div>\n",
       "<style>\n",
       "    .dataframe thead tr:only-child th {\n",
       "        text-align: right;\n",
       "    }\n",
       "\n",
       "    .dataframe thead th {\n",
       "        text-align: left;\n",
       "    }\n",
       "\n",
       "    .dataframe tbody tr th {\n",
       "        vertical-align: top;\n",
       "    }\n",
       "</style>\n",
       "<table border=\"1\" class=\"dataframe\">\n",
       "  <thead>\n",
       "    <tr style=\"text-align: right;\">\n",
       "      <th></th>\n",
       "      <th>geneID</th>\n",
       "      <th>LocusTag</th>\n",
       "      <th>OldLocusTag</th>\n",
       "    </tr>\n",
       "  </thead>\n",
       "  <tbody>\n",
       "    <tr>\n",
       "      <th>0</th>\n",
       "      <td>gene0</td>\n",
       "      <td>PA14_RS00005</td>\n",
       "      <td>PA14_00010</td>\n",
       "    </tr>\n",
       "    <tr>\n",
       "      <th>1</th>\n",
       "      <td>gene1</td>\n",
       "      <td>PA14_RS00010</td>\n",
       "      <td>PA14_00020</td>\n",
       "    </tr>\n",
       "    <tr>\n",
       "      <th>2</th>\n",
       "      <td>gene3</td>\n",
       "      <td>gyrB</td>\n",
       "      <td>PA14_00050</td>\n",
       "    </tr>\n",
       "    <tr>\n",
       "      <th>3</th>\n",
       "      <td>gene4</td>\n",
       "      <td>PA14_RS00025</td>\n",
       "      <td>PA14_00060</td>\n",
       "    </tr>\n",
       "    <tr>\n",
       "      <th>4</th>\n",
       "      <td>gene5</td>\n",
       "      <td>PA14_RS00030</td>\n",
       "      <td>PA14_00070</td>\n",
       "    </tr>\n",
       "  </tbody>\n",
       "</table>\n",
       "</div>"
      ],
      "text/plain": [
       "  geneID      LocusTag OldLocusTag\n",
       "0  gene0  PA14_RS00005  PA14_00010\n",
       "1  gene1  PA14_RS00010  PA14_00020\n",
       "2  gene3          gyrB  PA14_00050\n",
       "3  gene4  PA14_RS00025  PA14_00060\n",
       "4  gene5  PA14_RS00030  PA14_00070"
      ]
     },
     "execution_count": 38,
     "metadata": {},
     "output_type": "execute_result"
    }
   ],
   "source": [
    "ids2 = list(zip(geneID, LocusTag, OldLocusTag))\n",
    "df10 = pd.DataFrame(data=ids2, columns=['geneID', 'LocusTag', 'OldLocusTag'])\n",
    "df10.head(5)"
   ]
  },
  {
   "cell_type": "code",
   "execution_count": 39,
   "metadata": {
    "collapsed": true
   },
   "outputs": [],
   "source": [
    "df10.to_csv('geneNames-CDS.csv')"
   ]
  },
  {
   "cell_type": "code",
   "execution_count": 18,
   "metadata": {
    "collapsed": true
   },
   "outputs": [],
   "source": [
    "import sys"
   ]
  },
  {
   "cell_type": "code",
   "execution_count": 28,
   "metadata": {
    "collapsed": false
   },
   "outputs": [],
   "source": [
    "f4 = open(maindir+'UCBPP-PA14-col.txt','r')\n",
    "geneID = []\n",
    "LocusTag = []\n",
    "OldLocusTag = []\n",
    "for a in f4:\n",
    "    #a = f4.readline()\n",
    "    if 'ID=gene' in a:\n",
    "        geneID.append('gene'+ find_between(a,'ID=gene',';'))\n",
    "        LocusTag.append(find_between(a,'Name=',';'))\n",
    "        OldLocusTag.append(find_between(a,'old_locus_tag=','\\n'))\n",
    "f4.close()"
   ]
  },
  {
   "cell_type": "code",
   "execution_count": 29,
   "metadata": {
    "collapsed": false
   },
   "outputs": [
    {
     "data": {
      "text/html": [
       "<div>\n",
       "<style>\n",
       "    .dataframe thead tr:only-child th {\n",
       "        text-align: right;\n",
       "    }\n",
       "\n",
       "    .dataframe thead th {\n",
       "        text-align: left;\n",
       "    }\n",
       "\n",
       "    .dataframe tbody tr th {\n",
       "        vertical-align: top;\n",
       "    }\n",
       "</style>\n",
       "<table border=\"1\" class=\"dataframe\">\n",
       "  <thead>\n",
       "    <tr style=\"text-align: right;\">\n",
       "      <th></th>\n",
       "      <th>geneID</th>\n",
       "      <th>LocusTag</th>\n",
       "      <th>OldLocusTag</th>\n",
       "    </tr>\n",
       "  </thead>\n",
       "  <tbody>\n",
       "    <tr>\n",
       "      <th>0</th>\n",
       "      <td>gene0</td>\n",
       "      <td>PA14_RS00005</td>\n",
       "      <td>PA14_00010</td>\n",
       "    </tr>\n",
       "    <tr>\n",
       "      <th>1</th>\n",
       "      <td>gene1</td>\n",
       "      <td>PA14_RS00010</td>\n",
       "      <td>PA14_00020</td>\n",
       "    </tr>\n",
       "    <tr>\n",
       "      <th>2</th>\n",
       "      <td>gene2</td>\n",
       "      <td>PA14_RS00015</td>\n",
       "      <td>PA14_00030;pseudo=true</td>\n",
       "    </tr>\n",
       "    <tr>\n",
       "      <th>3</th>\n",
       "      <td>gene3</td>\n",
       "      <td>gyrB</td>\n",
       "      <td>PA14_00050</td>\n",
       "    </tr>\n",
       "    <tr>\n",
       "      <th>4</th>\n",
       "      <td>gene4</td>\n",
       "      <td>PA14_RS00025</td>\n",
       "      <td>PA14_00060</td>\n",
       "    </tr>\n",
       "  </tbody>\n",
       "</table>\n",
       "</div>"
      ],
      "text/plain": [
       "  geneID      LocusTag             OldLocusTag\n",
       "0  gene0  PA14_RS00005              PA14_00010\n",
       "1  gene1  PA14_RS00010              PA14_00020\n",
       "2  gene2  PA14_RS00015  PA14_00030;pseudo=true\n",
       "3  gene3          gyrB              PA14_00050\n",
       "4  gene4  PA14_RS00025              PA14_00060"
      ]
     },
     "execution_count": 29,
     "metadata": {},
     "output_type": "execute_result"
    }
   ],
   "source": [
    "ids2=[]\n",
    "ids2 = list(zip(geneID, LocusTag, OldLocusTag))\n",
    "df10 = pd.DataFrame(data=ids2, columns=['geneID', 'LocusTag', 'OldLocusTag'])\n",
    "df10.head(5)"
   ]
  },
  {
   "cell_type": "code",
   "execution_count": 30,
   "metadata": {
    "collapsed": false
   },
   "outputs": [
    {
     "data": {
      "text/html": [
       "<div>\n",
       "<style>\n",
       "    .dataframe thead tr:only-child th {\n",
       "        text-align: right;\n",
       "    }\n",
       "\n",
       "    .dataframe thead th {\n",
       "        text-align: left;\n",
       "    }\n",
       "\n",
       "    .dataframe tbody tr th {\n",
       "        vertical-align: top;\n",
       "    }\n",
       "</style>\n",
       "<table border=\"1\" class=\"dataframe\">\n",
       "  <thead>\n",
       "    <tr style=\"text-align: right;\">\n",
       "      <th></th>\n",
       "      <th>geneID</th>\n",
       "      <th>LocusTag</th>\n",
       "      <th>OldLocusTag</th>\n",
       "    </tr>\n",
       "  </thead>\n",
       "  <tbody>\n",
       "    <tr>\n",
       "      <th>0</th>\n",
       "      <td>gene0</td>\n",
       "      <td>PA14_RS00005</td>\n",
       "      <td>PA14_00010</td>\n",
       "    </tr>\n",
       "    <tr>\n",
       "      <th>1</th>\n",
       "      <td>gene1</td>\n",
       "      <td>PA14_RS00010</td>\n",
       "      <td>PA14_00020</td>\n",
       "    </tr>\n",
       "    <tr>\n",
       "      <th>2</th>\n",
       "      <td>gene2</td>\n",
       "      <td>PA14_RS00015</td>\n",
       "      <td>PA14_00030;pseudo=true</td>\n",
       "    </tr>\n",
       "    <tr>\n",
       "      <th>4</th>\n",
       "      <td>gene4</td>\n",
       "      <td>PA14_RS00025</td>\n",
       "      <td>PA14_00060</td>\n",
       "    </tr>\n",
       "    <tr>\n",
       "      <th>5</th>\n",
       "      <td>gene5</td>\n",
       "      <td>PA14_RS00030</td>\n",
       "      <td>PA14_00070</td>\n",
       "    </tr>\n",
       "  </tbody>\n",
       "</table>\n",
       "</div>"
      ],
      "text/plain": [
       "  geneID      LocusTag             OldLocusTag\n",
       "0  gene0  PA14_RS00005              PA14_00010\n",
       "1  gene1  PA14_RS00010              PA14_00020\n",
       "2  gene2  PA14_RS00015  PA14_00030;pseudo=true\n",
       "4  gene4  PA14_RS00025              PA14_00060\n",
       "5  gene5  PA14_RS00030              PA14_00070"
      ]
     },
     "execution_count": 30,
     "metadata": {},
     "output_type": "execute_result"
    }
   ],
   "source": [
    "df11 = df10.sort_values('LocusTag')\n",
    "df11.head()"
   ]
  },
  {
   "cell_type": "code",
   "execution_count": 33,
   "metadata": {
    "collapsed": true
   },
   "outputs": [],
   "source": [
    "df11.to_csv('geneNames-CDS2.csv')"
   ]
  },
  {
   "cell_type": "code",
   "execution_count": 31,
   "metadata": {
    "collapsed": false
   },
   "outputs": [
    {
     "data": {
      "text/plain": [
       "(6177, 3)"
      ]
     },
     "execution_count": 31,
     "metadata": {},
     "output_type": "execute_result"
    }
   ],
   "source": [
    "df11.shape"
   ]
  },
  {
   "cell_type": "code",
   "execution_count": 32,
   "metadata": {
    "collapsed": false
   },
   "outputs": [
    {
     "data": {
      "text/html": [
       "<div>\n",
       "<style>\n",
       "    .dataframe thead tr:only-child th {\n",
       "        text-align: right;\n",
       "    }\n",
       "\n",
       "    .dataframe thead th {\n",
       "        text-align: left;\n",
       "    }\n",
       "\n",
       "    .dataframe tbody tr th {\n",
       "        vertical-align: top;\n",
       "    }\n",
       "</style>\n",
       "<table border=\"1\" class=\"dataframe\">\n",
       "  <thead>\n",
       "    <tr style=\"text-align: right;\">\n",
       "      <th></th>\n",
       "      <th>geneID</th>\n",
       "      <th>LocusTag</th>\n",
       "      <th>OldLocusTag</th>\n",
       "    </tr>\n",
       "  </thead>\n",
       "  <tbody>\n",
       "    <tr>\n",
       "      <th>5222</th>\n",
       "      <td>gene5222</td>\n",
       "      <td>ychF</td>\n",
       "      <td>PA14_61820</td>\n",
       "    </tr>\n",
       "    <tr>\n",
       "      <th>5407</th>\n",
       "      <td>gene5407</td>\n",
       "      <td>yciH</td>\n",
       "      <td>PA14_64000</td>\n",
       "    </tr>\n",
       "    <tr>\n",
       "      <th>2082</th>\n",
       "      <td>gene2082</td>\n",
       "      <td>yegS</td>\n",
       "      <td>PA14_24970</td>\n",
       "    </tr>\n",
       "    <tr>\n",
       "      <th>4345</th>\n",
       "      <td>gene4345</td>\n",
       "      <td>ygbF</td>\n",
       "      <td>PA14_51690</td>\n",
       "    </tr>\n",
       "    <tr>\n",
       "      <th>1920</th>\n",
       "      <td>gene1920</td>\n",
       "      <td>zwf</td>\n",
       "      <td>PA14_23070</td>\n",
       "    </tr>\n",
       "  </tbody>\n",
       "</table>\n",
       "</div>"
      ],
      "text/plain": [
       "        geneID LocusTag OldLocusTag\n",
       "5222  gene5222     ychF  PA14_61820\n",
       "5407  gene5407     yciH  PA14_64000\n",
       "2082  gene2082     yegS  PA14_24970\n",
       "4345  gene4345     ygbF  PA14_51690\n",
       "1920  gene1920      zwf  PA14_23070"
      ]
     },
     "execution_count": 32,
     "metadata": {},
     "output_type": "execute_result"
    }
   ],
   "source": [
    "df11.tail()"
   ]
  },
  {
   "cell_type": "code",
   "execution_count": null,
   "metadata": {
    "collapsed": true
   },
   "outputs": [],
   "source": []
  }
 ],
 "metadata": {
  "anaconda-cloud": {},
  "kernelspec": {
   "display_name": "Python [Root]",
   "language": "python",
   "name": "Python [Root]"
  },
  "language_info": {
   "codemirror_mode": {
    "name": "ipython",
    "version": 2
   },
   "file_extension": ".py",
   "mimetype": "text/x-python",
   "name": "python",
   "nbconvert_exporter": "python",
   "pygments_lexer": "ipython2",
   "version": "2.7.12"
  }
 },
 "nbformat": 4,
 "nbformat_minor": 0
}
